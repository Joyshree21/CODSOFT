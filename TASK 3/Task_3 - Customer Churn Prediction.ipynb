{
 "cells": [
  {
   "cell_type": "markdown",
   "metadata": {},
   "source": [
    "# TASK 3 : Customer Churn Prediction "
   ]
  },
  {
   "cell_type": "markdown",
   "metadata": {},
   "source": [
    "# Import required libraries:"
   ]
  },
  {
   "cell_type": "code",
   "execution_count": 41,
   "metadata": {
    "execution": {
     "iopub.execute_input": "2022-09-22T09:48:19.095832Z",
     "iopub.status.busy": "2022-09-22T09:48:19.095367Z",
     "iopub.status.idle": "2022-09-22T09:48:20.218650Z",
     "shell.execute_reply": "2022-09-22T09:48:20.217443Z",
     "shell.execute_reply.started": "2022-09-22T09:48:19.095739Z"
    }
   },
   "outputs": [],
   "source": [
    "\n",
    "\n",
    "import pandas as pd\n",
    "import numpy as np\n",
    "import matplotlib.pyplot as plt\n",
    "import seaborn as sns"
   ]
  },
  {
   "cell_type": "code",
   "execution_count": 44,
   "metadata": {
    "execution": {
     "iopub.execute_input": "2022-09-22T09:48:45.333369Z",
     "iopub.status.busy": "2022-09-22T09:48:45.332386Z",
     "iopub.status.idle": "2022-09-22T09:48:45.409046Z",
     "shell.execute_reply": "2022-09-22T09:48:45.407552Z",
     "shell.execute_reply.started": "2022-09-22T09:48:45.333312Z"
    }
   },
   "outputs": [],
   "source": [
    "# load dataset:\n",
    "df = pd.read_csv(\"D:\\joyshree\\dataset\\Churn_Modelling.csv\")\n"
   ]
  },
  {
   "cell_type": "code",
   "execution_count": 45,
   "metadata": {
    "execution": {
     "iopub.execute_input": "2022-09-22T09:48:48.468672Z",
     "iopub.status.busy": "2022-09-22T09:48:48.467988Z",
     "iopub.status.idle": "2022-09-22T09:48:48.505759Z",
     "shell.execute_reply": "2022-09-22T09:48:48.504666Z",
     "shell.execute_reply.started": "2022-09-22T09:48:48.468635Z"
    }
   },
   "outputs": [
    {
     "data": {
      "text/html": [
       "<div>\n",
       "<style scoped>\n",
       "    .dataframe tbody tr th:only-of-type {\n",
       "        vertical-align: middle;\n",
       "    }\n",
       "\n",
       "    .dataframe tbody tr th {\n",
       "        vertical-align: top;\n",
       "    }\n",
       "\n",
       "    .dataframe thead th {\n",
       "        text-align: right;\n",
       "    }\n",
       "</style>\n",
       "<table border=\"1\" class=\"dataframe\">\n",
       "  <thead>\n",
       "    <tr style=\"text-align: right;\">\n",
       "      <th></th>\n",
       "      <th>RowNumber</th>\n",
       "      <th>CustomerId</th>\n",
       "      <th>Surname</th>\n",
       "      <th>CreditScore</th>\n",
       "      <th>Geography</th>\n",
       "      <th>Gender</th>\n",
       "      <th>Age</th>\n",
       "      <th>Tenure</th>\n",
       "      <th>Balance</th>\n",
       "      <th>NumOfProducts</th>\n",
       "      <th>HasCrCard</th>\n",
       "      <th>IsActiveMember</th>\n",
       "      <th>EstimatedSalary</th>\n",
       "      <th>Exited</th>\n",
       "    </tr>\n",
       "  </thead>\n",
       "  <tbody>\n",
       "    <tr>\n",
       "      <th>0</th>\n",
       "      <td>1</td>\n",
       "      <td>15634602</td>\n",
       "      <td>Hargrave</td>\n",
       "      <td>619</td>\n",
       "      <td>France</td>\n",
       "      <td>Female</td>\n",
       "      <td>42</td>\n",
       "      <td>2</td>\n",
       "      <td>0.00</td>\n",
       "      <td>1</td>\n",
       "      <td>1</td>\n",
       "      <td>1</td>\n",
       "      <td>101348.88</td>\n",
       "      <td>1</td>\n",
       "    </tr>\n",
       "    <tr>\n",
       "      <th>1</th>\n",
       "      <td>2</td>\n",
       "      <td>15647311</td>\n",
       "      <td>Hill</td>\n",
       "      <td>608</td>\n",
       "      <td>Spain</td>\n",
       "      <td>Female</td>\n",
       "      <td>41</td>\n",
       "      <td>1</td>\n",
       "      <td>83807.86</td>\n",
       "      <td>1</td>\n",
       "      <td>0</td>\n",
       "      <td>1</td>\n",
       "      <td>112542.58</td>\n",
       "      <td>0</td>\n",
       "    </tr>\n",
       "    <tr>\n",
       "      <th>2</th>\n",
       "      <td>3</td>\n",
       "      <td>15619304</td>\n",
       "      <td>Onio</td>\n",
       "      <td>502</td>\n",
       "      <td>France</td>\n",
       "      <td>Female</td>\n",
       "      <td>42</td>\n",
       "      <td>8</td>\n",
       "      <td>159660.80</td>\n",
       "      <td>3</td>\n",
       "      <td>1</td>\n",
       "      <td>0</td>\n",
       "      <td>113931.57</td>\n",
       "      <td>1</td>\n",
       "    </tr>\n",
       "    <tr>\n",
       "      <th>3</th>\n",
       "      <td>4</td>\n",
       "      <td>15701354</td>\n",
       "      <td>Boni</td>\n",
       "      <td>699</td>\n",
       "      <td>France</td>\n",
       "      <td>Female</td>\n",
       "      <td>39</td>\n",
       "      <td>1</td>\n",
       "      <td>0.00</td>\n",
       "      <td>2</td>\n",
       "      <td>0</td>\n",
       "      <td>0</td>\n",
       "      <td>93826.63</td>\n",
       "      <td>0</td>\n",
       "    </tr>\n",
       "    <tr>\n",
       "      <th>4</th>\n",
       "      <td>5</td>\n",
       "      <td>15737888</td>\n",
       "      <td>Mitchell</td>\n",
       "      <td>850</td>\n",
       "      <td>Spain</td>\n",
       "      <td>Female</td>\n",
       "      <td>43</td>\n",
       "      <td>2</td>\n",
       "      <td>125510.82</td>\n",
       "      <td>1</td>\n",
       "      <td>1</td>\n",
       "      <td>1</td>\n",
       "      <td>79084.10</td>\n",
       "      <td>0</td>\n",
       "    </tr>\n",
       "  </tbody>\n",
       "</table>\n",
       "</div>"
      ],
      "text/plain": [
       "   RowNumber  CustomerId   Surname  CreditScore Geography  Gender  Age  \\\n",
       "0          1    15634602  Hargrave          619    France  Female   42   \n",
       "1          2    15647311      Hill          608     Spain  Female   41   \n",
       "2          3    15619304      Onio          502    France  Female   42   \n",
       "3          4    15701354      Boni          699    France  Female   39   \n",
       "4          5    15737888  Mitchell          850     Spain  Female   43   \n",
       "\n",
       "   Tenure    Balance  NumOfProducts  HasCrCard  IsActiveMember  \\\n",
       "0       2       0.00              1          1               1   \n",
       "1       1   83807.86              1          0               1   \n",
       "2       8  159660.80              3          1               0   \n",
       "3       1       0.00              2          0               0   \n",
       "4       2  125510.82              1          1               1   \n",
       "\n",
       "   EstimatedSalary  Exited  \n",
       "0        101348.88       1  \n",
       "1        112542.58       0  \n",
       "2        113931.57       1  \n",
       "3         93826.63       0  \n",
       "4         79084.10       0  "
      ]
     },
     "execution_count": 45,
     "metadata": {},
     "output_type": "execute_result"
    }
   ],
   "source": [
    "# View first five columns:\n",
    "df.head()"
   ]
  },
  {
   "cell_type": "code",
   "execution_count": 46,
   "metadata": {
    "execution": {
     "iopub.execute_input": "2022-09-22T09:49:08.475008Z",
     "iopub.status.busy": "2022-09-22T09:49:08.474610Z",
     "iopub.status.idle": "2022-09-22T09:49:08.488940Z",
     "shell.execute_reply": "2022-09-22T09:49:08.487850Z",
     "shell.execute_reply.started": "2022-09-22T09:49:08.474978Z"
    }
   },
   "outputs": [
    {
     "data": {
      "text/plain": [
       "RowNumber          0\n",
       "CustomerId         0\n",
       "Surname            0\n",
       "CreditScore        0\n",
       "Geography          0\n",
       "Gender             0\n",
       "Age                0\n",
       "Tenure             0\n",
       "Balance            0\n",
       "NumOfProducts      0\n",
       "HasCrCard          0\n",
       "IsActiveMember     0\n",
       "EstimatedSalary    0\n",
       "Exited             0\n",
       "dtype: int64"
      ]
     },
     "execution_count": 46,
     "metadata": {},
     "output_type": "execute_result"
    }
   ],
   "source": [
    "# Checking null values:\n",
    "df.isnull().sum()"
   ]
  },
  {
   "cell_type": "code",
   "execution_count": 47,
   "metadata": {},
   "outputs": [
    {
     "data": {
      "text/plain": [
       "0"
      ]
     },
     "execution_count": 47,
     "metadata": {},
     "output_type": "execute_result"
    }
   ],
   "source": [
    "# Checking duplicate values:\n",
    "df.duplicated().sum()"
   ]
  },
  {
   "cell_type": "code",
   "execution_count": 48,
   "metadata": {
    "execution": {
     "iopub.execute_input": "2022-09-22T09:49:26.036198Z",
     "iopub.status.busy": "2022-09-22T09:49:26.035820Z",
     "iopub.status.idle": "2022-09-22T09:49:26.060023Z",
     "shell.execute_reply": "2022-09-22T09:49:26.059016Z",
     "shell.execute_reply.started": "2022-09-22T09:49:26.036165Z"
    }
   },
   "outputs": [],
   "source": [
    "# Dropping duplicates:\n",
    "df.drop_duplicates(inplace=True)"
   ]
  },
  {
   "cell_type": "code",
   "execution_count": 49,
   "metadata": {
    "execution": {
     "iopub.execute_input": "2022-09-22T09:49:33.124156Z",
     "iopub.status.busy": "2022-09-22T09:49:33.123608Z",
     "iopub.status.idle": "2022-09-22T09:49:33.132459Z",
     "shell.execute_reply": "2022-09-22T09:49:33.131298Z",
     "shell.execute_reply.started": "2022-09-22T09:49:33.124058Z"
    }
   },
   "outputs": [
    {
     "data": {
      "text/plain": [
       "(10000, 14)"
      ]
     },
     "execution_count": 49,
     "metadata": {},
     "output_type": "execute_result"
    }
   ],
   "source": [
    "# Checking shape of dataframe:\n",
    "df.shape"
   ]
  },
  {
   "cell_type": "code",
   "execution_count": 50,
   "metadata": {
    "execution": {
     "iopub.execute_input": "2022-09-22T09:55:46.592250Z",
     "iopub.status.busy": "2022-09-22T09:55:46.591635Z",
     "iopub.status.idle": "2022-09-22T09:55:46.661180Z",
     "shell.execute_reply": "2022-09-22T09:55:46.660143Z",
     "shell.execute_reply.started": "2022-09-22T09:55:46.592205Z"
    }
   },
   "outputs": [
    {
     "data": {
      "text/html": [
       "<div>\n",
       "<style scoped>\n",
       "    .dataframe tbody tr th:only-of-type {\n",
       "        vertical-align: middle;\n",
       "    }\n",
       "\n",
       "    .dataframe tbody tr th {\n",
       "        vertical-align: top;\n",
       "    }\n",
       "\n",
       "    .dataframe thead th {\n",
       "        text-align: right;\n",
       "    }\n",
       "</style>\n",
       "<table border=\"1\" class=\"dataframe\">\n",
       "  <thead>\n",
       "    <tr style=\"text-align: right;\">\n",
       "      <th></th>\n",
       "      <th>RowNumber</th>\n",
       "      <th>CustomerId</th>\n",
       "      <th>CreditScore</th>\n",
       "      <th>Age</th>\n",
       "      <th>Tenure</th>\n",
       "      <th>Balance</th>\n",
       "      <th>NumOfProducts</th>\n",
       "      <th>HasCrCard</th>\n",
       "      <th>IsActiveMember</th>\n",
       "      <th>EstimatedSalary</th>\n",
       "      <th>Exited</th>\n",
       "    </tr>\n",
       "  </thead>\n",
       "  <tbody>\n",
       "    <tr>\n",
       "      <th>count</th>\n",
       "      <td>10000.00000</td>\n",
       "      <td>1.000000e+04</td>\n",
       "      <td>10000.000000</td>\n",
       "      <td>10000.000000</td>\n",
       "      <td>10000.000000</td>\n",
       "      <td>10000.000000</td>\n",
       "      <td>10000.000000</td>\n",
       "      <td>10000.00000</td>\n",
       "      <td>10000.000000</td>\n",
       "      <td>10000.000000</td>\n",
       "      <td>10000.000000</td>\n",
       "    </tr>\n",
       "    <tr>\n",
       "      <th>mean</th>\n",
       "      <td>5000.50000</td>\n",
       "      <td>1.569094e+07</td>\n",
       "      <td>650.528800</td>\n",
       "      <td>38.921800</td>\n",
       "      <td>5.012800</td>\n",
       "      <td>76485.889288</td>\n",
       "      <td>1.530200</td>\n",
       "      <td>0.70550</td>\n",
       "      <td>0.515100</td>\n",
       "      <td>100090.239881</td>\n",
       "      <td>0.203700</td>\n",
       "    </tr>\n",
       "    <tr>\n",
       "      <th>std</th>\n",
       "      <td>2886.89568</td>\n",
       "      <td>7.193619e+04</td>\n",
       "      <td>96.653299</td>\n",
       "      <td>10.487806</td>\n",
       "      <td>2.892174</td>\n",
       "      <td>62397.405202</td>\n",
       "      <td>0.581654</td>\n",
       "      <td>0.45584</td>\n",
       "      <td>0.499797</td>\n",
       "      <td>57510.492818</td>\n",
       "      <td>0.402769</td>\n",
       "    </tr>\n",
       "    <tr>\n",
       "      <th>min</th>\n",
       "      <td>1.00000</td>\n",
       "      <td>1.556570e+07</td>\n",
       "      <td>350.000000</td>\n",
       "      <td>18.000000</td>\n",
       "      <td>0.000000</td>\n",
       "      <td>0.000000</td>\n",
       "      <td>1.000000</td>\n",
       "      <td>0.00000</td>\n",
       "      <td>0.000000</td>\n",
       "      <td>11.580000</td>\n",
       "      <td>0.000000</td>\n",
       "    </tr>\n",
       "    <tr>\n",
       "      <th>25%</th>\n",
       "      <td>2500.75000</td>\n",
       "      <td>1.562853e+07</td>\n",
       "      <td>584.000000</td>\n",
       "      <td>32.000000</td>\n",
       "      <td>3.000000</td>\n",
       "      <td>0.000000</td>\n",
       "      <td>1.000000</td>\n",
       "      <td>0.00000</td>\n",
       "      <td>0.000000</td>\n",
       "      <td>51002.110000</td>\n",
       "      <td>0.000000</td>\n",
       "    </tr>\n",
       "    <tr>\n",
       "      <th>50%</th>\n",
       "      <td>5000.50000</td>\n",
       "      <td>1.569074e+07</td>\n",
       "      <td>652.000000</td>\n",
       "      <td>37.000000</td>\n",
       "      <td>5.000000</td>\n",
       "      <td>97198.540000</td>\n",
       "      <td>1.000000</td>\n",
       "      <td>1.00000</td>\n",
       "      <td>1.000000</td>\n",
       "      <td>100193.915000</td>\n",
       "      <td>0.000000</td>\n",
       "    </tr>\n",
       "    <tr>\n",
       "      <th>75%</th>\n",
       "      <td>7500.25000</td>\n",
       "      <td>1.575323e+07</td>\n",
       "      <td>718.000000</td>\n",
       "      <td>44.000000</td>\n",
       "      <td>7.000000</td>\n",
       "      <td>127644.240000</td>\n",
       "      <td>2.000000</td>\n",
       "      <td>1.00000</td>\n",
       "      <td>1.000000</td>\n",
       "      <td>149388.247500</td>\n",
       "      <td>0.000000</td>\n",
       "    </tr>\n",
       "    <tr>\n",
       "      <th>max</th>\n",
       "      <td>10000.00000</td>\n",
       "      <td>1.581569e+07</td>\n",
       "      <td>850.000000</td>\n",
       "      <td>92.000000</td>\n",
       "      <td>10.000000</td>\n",
       "      <td>250898.090000</td>\n",
       "      <td>4.000000</td>\n",
       "      <td>1.00000</td>\n",
       "      <td>1.000000</td>\n",
       "      <td>199992.480000</td>\n",
       "      <td>1.000000</td>\n",
       "    </tr>\n",
       "  </tbody>\n",
       "</table>\n",
       "</div>"
      ],
      "text/plain": [
       "         RowNumber    CustomerId   CreditScore           Age        Tenure  \\\n",
       "count  10000.00000  1.000000e+04  10000.000000  10000.000000  10000.000000   \n",
       "mean    5000.50000  1.569094e+07    650.528800     38.921800      5.012800   \n",
       "std     2886.89568  7.193619e+04     96.653299     10.487806      2.892174   \n",
       "min        1.00000  1.556570e+07    350.000000     18.000000      0.000000   \n",
       "25%     2500.75000  1.562853e+07    584.000000     32.000000      3.000000   \n",
       "50%     5000.50000  1.569074e+07    652.000000     37.000000      5.000000   \n",
       "75%     7500.25000  1.575323e+07    718.000000     44.000000      7.000000   \n",
       "max    10000.00000  1.581569e+07    850.000000     92.000000     10.000000   \n",
       "\n",
       "             Balance  NumOfProducts    HasCrCard  IsActiveMember  \\\n",
       "count   10000.000000   10000.000000  10000.00000    10000.000000   \n",
       "mean    76485.889288       1.530200      0.70550        0.515100   \n",
       "std     62397.405202       0.581654      0.45584        0.499797   \n",
       "min         0.000000       1.000000      0.00000        0.000000   \n",
       "25%         0.000000       1.000000      0.00000        0.000000   \n",
       "50%     97198.540000       1.000000      1.00000        1.000000   \n",
       "75%    127644.240000       2.000000      1.00000        1.000000   \n",
       "max    250898.090000       4.000000      1.00000        1.000000   \n",
       "\n",
       "       EstimatedSalary        Exited  \n",
       "count     10000.000000  10000.000000  \n",
       "mean     100090.239881      0.203700  \n",
       "std       57510.492818      0.402769  \n",
       "min          11.580000      0.000000  \n",
       "25%       51002.110000      0.000000  \n",
       "50%      100193.915000      0.000000  \n",
       "75%      149388.247500      0.000000  \n",
       "max      199992.480000      1.000000  "
      ]
     },
     "execution_count": 50,
     "metadata": {},
     "output_type": "execute_result"
    }
   ],
   "source": [
    "# Checking descriptive nature of dataset:\n",
    "df.describe()"
   ]
  },
  {
   "cell_type": "markdown",
   "metadata": {},
   "source": [
    "## Simple Visualization"
   ]
  },
  {
   "cell_type": "code",
   "execution_count": 51,
   "metadata": {
    "execution": {
     "iopub.execute_input": "2022-09-22T09:51:23.650070Z",
     "iopub.status.busy": "2022-09-22T09:51:23.649645Z",
     "iopub.status.idle": "2022-09-22T09:51:23.902569Z",
     "shell.execute_reply": "2022-09-22T09:51:23.901602Z",
     "shell.execute_reply.started": "2022-09-22T09:51:23.650028Z"
    }
   },
   "outputs": [
    {
     "data": {
      "image/png": "[encoded data removed]",
      "text/plain": [
       "<Figure size 432x288 with 1 Axes>"
      ]
     },
     "metadata": {
      "needs_background": "light"
     },
     "output_type": "display_data"
    }
   ],
   "source": [
    "# Create the count plot\n",
    "sns.countplot(data=df, x='Exited')\n",
    "\n",
    "# Adding labels and a title\n",
    "plt.xlabel(\"Exited\")\n",
    "plt.ylabel(\"Count\")\n",
    "plt.title(\"Count of Exited vs Non-Exited Custmoers\")\n",
    "\n",
    "# Show the plot\n",
    "plt.show()"
   ]
  },
  {
   "cell_type": "code",
   "execution_count": 52,
   "metadata": {
    "execution": {
     "iopub.execute_input": "2022-09-22T09:52:30.175473Z",
     "iopub.status.busy": "2022-09-22T09:52:30.174454Z",
     "iopub.status.idle": "2022-09-22T09:52:30.184286Z",
     "shell.execute_reply": "2022-09-22T09:52:30.182968Z",
     "shell.execute_reply.started": "2022-09-22T09:52:30.175435Z"
    }
   },
   "outputs": [
    {
     "data": {
      "text/plain": [
       "0    7963\n",
       "1    2037\n",
       "Name: Exited, dtype: int64"
      ]
     },
     "execution_count": 52,
     "metadata": {},
     "output_type": "execute_result"
    }
   ],
   "source": [
    "df['Exited'].value_counts()"
   ]
  },
  {
   "cell_type": "code",
   "execution_count": 53,
   "metadata": {
    "execution": {
     "iopub.execute_input": "2022-09-22T09:56:47.821464Z",
     "iopub.status.busy": "2022-09-22T09:56:47.820657Z",
     "iopub.status.idle": "2022-09-22T09:56:48.048130Z",
     "shell.execute_reply": "2022-09-22T09:56:48.047101Z",
     "shell.execute_reply.started": "2022-09-22T09:56:47.821425Z"
    }
   },
   "outputs": [
    {
     "data": {
      "text/plain": [
       "<Axes: xlabel='Gender', ylabel='count'>"
      ]
     },
     "execution_count": 53,
     "metadata": {},
     "output_type": "execute_result"
    },
    {
     "data": {
      "image/png": "[encoded data removed]",
      "text/plain": [
       "<Figure size 432x288 with 1 Axes>"
      ]
     },
     "metadata": {
      "needs_background": "light"
     },
     "output_type": "display_data"
    }
   ],
   "source": [
    "sns.countplot(x='Gender',hue='Exited',data=df)"
   ]
  },
  {
   "cell_type": "code",
   "execution_count": 54,
   "metadata": {
    "execution": {
     "iopub.execute_input": "2022-09-22T09:58:31.783667Z",
     "iopub.status.busy": "2022-09-22T09:58:31.783263Z",
     "iopub.status.idle": "2022-09-22T09:58:32.037598Z",
     "shell.execute_reply": "2022-09-22T09:58:32.036572Z",
     "shell.execute_reply.started": "2022-09-22T09:58:31.783633Z"
    }
   },
   "outputs": [
    {
     "data": {
      "text/plain": [
       "<Axes: xlabel='Geography', ylabel='count'>"
      ]
     },
     "execution_count": 54,
     "metadata": {},
     "output_type": "execute_result"
    },
    {
     "data": {
      "image/png": "[encoded data removed]",
      "text/plain": [
       "<Figure size 432x288 with 1 Axes>"
      ]
     },
     "metadata": {
      "needs_background": "light"
     },
     "output_type": "display_data"
    }
   ],
   "source": [
    "sns.countplot(x='Geography',hue='Exited',data=df)"
   ]
  },
  {
   "cell_type": "markdown",
   "metadata": {},
   "source": [
    "## Data Preprocessing"
   ]
  },
  {
   "cell_type": "code",
   "execution_count": 55,
   "metadata": {
    "execution": {
     "iopub.execute_input": "2022-09-22T10:00:04.219690Z",
     "iopub.status.busy": "2022-09-22T10:00:04.219298Z",
     "iopub.status.idle": "2022-09-22T10:00:04.227672Z",
     "shell.execute_reply": "2022-09-22T10:00:04.226292Z",
     "shell.execute_reply.started": "2022-09-22T10:00:04.219640Z"
    }
   },
   "outputs": [],
   "source": [
    "# Dropping unnecessary columns:\n",
    "df = df.drop(['CustomerId', 'RowNumber'],axis=1)"
   ]
  },
  {
   "cell_type": "code",
   "execution_count": 56,
   "metadata": {
    "execution": {
     "iopub.execute_input": "2022-09-22T10:00:09.369664Z",
     "iopub.status.busy": "2022-09-22T10:00:09.369126Z",
     "iopub.status.idle": "2022-09-22T10:00:09.378902Z",
     "shell.execute_reply": "2022-09-22T10:00:09.377980Z",
     "shell.execute_reply.started": "2022-09-22T10:00:09.369628Z"
    }
   },
   "outputs": [
    {
     "data": {
      "text/plain": [
       "(10000, 12)"
      ]
     },
     "execution_count": 56,
     "metadata": {},
     "output_type": "execute_result"
    }
   ],
   "source": [
    "#checking shape of dataframe again:\n",
    "df.shape "
   ]
  },
  {
   "cell_type": "code",
   "execution_count": 57,
   "metadata": {
    "execution": {
     "iopub.execute_input": "2022-09-22T10:00:59.516925Z",
     "iopub.status.busy": "2022-09-22T10:00:59.516507Z",
     "iopub.status.idle": "2022-09-22T10:00:59.578922Z",
     "shell.execute_reply": "2022-09-22T10:00:59.577974Z",
     "shell.execute_reply.started": "2022-09-22T10:00:59.516893Z"
    }
   },
   "outputs": [],
   "source": [
    "# Importing label encoder:\n",
    "from sklearn.preprocessing import LabelEncoder\n",
    "le = LabelEncoder()"
   ]
  },
  {
   "cell_type": "code",
   "execution_count": 58,
   "metadata": {
    "execution": {
     "iopub.execute_input": "2022-09-22T10:01:27.366888Z",
     "iopub.status.busy": "2022-09-22T10:01:27.366528Z",
     "iopub.status.idle": "2022-09-22T10:01:27.382057Z",
     "shell.execute_reply": "2022-09-22T10:01:27.381010Z",
     "shell.execute_reply.started": "2022-09-22T10:01:27.366858Z"
    }
   },
   "outputs": [
    {
     "name": "stderr",
     "output_type": "stream",
     "text": [
      "C:\\Users\\JOYSHREE\\AppData\\Local\\Temp\\ipykernel_18552\\1696928730.py:2: DeprecationWarning: Converting `np.inexact` or `np.floating` to a dtype is deprecated. The current result is `float64` which is not strictly correct.\n",
      "  if df[column].dtype==np.number:\n"
     ]
    }
   ],
   "source": [
    "for column in df.columns:\n",
    "    if df[column].dtype==np.number:\n",
    "        continue\n",
    "    df[column]=le.fit_transform(df[column])"
   ]
  },
  {
   "cell_type": "code",
   "execution_count": 59,
   "metadata": {
    "execution": {
     "iopub.execute_input": "2022-09-22T10:01:43.419915Z",
     "iopub.status.busy": "2022-09-22T10:01:43.419539Z",
     "iopub.status.idle": "2022-09-22T10:01:43.445166Z",
     "shell.execute_reply": "2022-09-22T10:01:43.444027Z",
     "shell.execute_reply.started": "2022-09-22T10:01:43.419884Z"
    }
   },
   "outputs": [
    {
     "data": {
      "text/html": [
       "<div>\n",
       "<style scoped>\n",
       "    .dataframe tbody tr th:only-of-type {\n",
       "        vertical-align: middle;\n",
       "    }\n",
       "\n",
       "    .dataframe tbody tr th {\n",
       "        vertical-align: top;\n",
       "    }\n",
       "\n",
       "    .dataframe thead th {\n",
       "        text-align: right;\n",
       "    }\n",
       "</style>\n",
       "<table border=\"1\" class=\"dataframe\">\n",
       "  <thead>\n",
       "    <tr style=\"text-align: right;\">\n",
       "      <th></th>\n",
       "      <th>Surname</th>\n",
       "      <th>CreditScore</th>\n",
       "      <th>Geography</th>\n",
       "      <th>Gender</th>\n",
       "      <th>Age</th>\n",
       "      <th>Tenure</th>\n",
       "      <th>Balance</th>\n",
       "      <th>NumOfProducts</th>\n",
       "      <th>HasCrCard</th>\n",
       "      <th>IsActiveMember</th>\n",
       "      <th>EstimatedSalary</th>\n",
       "      <th>Exited</th>\n",
       "    </tr>\n",
       "  </thead>\n",
       "  <tbody>\n",
       "    <tr>\n",
       "      <th>0</th>\n",
       "      <td>1115</td>\n",
       "      <td>228</td>\n",
       "      <td>0</td>\n",
       "      <td>0</td>\n",
       "      <td>24</td>\n",
       "      <td>2</td>\n",
       "      <td>0.00</td>\n",
       "      <td>0</td>\n",
       "      <td>1</td>\n",
       "      <td>1</td>\n",
       "      <td>101348.88</td>\n",
       "      <td>1</td>\n",
       "    </tr>\n",
       "    <tr>\n",
       "      <th>1</th>\n",
       "      <td>1177</td>\n",
       "      <td>217</td>\n",
       "      <td>2</td>\n",
       "      <td>0</td>\n",
       "      <td>23</td>\n",
       "      <td>1</td>\n",
       "      <td>83807.86</td>\n",
       "      <td>0</td>\n",
       "      <td>0</td>\n",
       "      <td>1</td>\n",
       "      <td>112542.58</td>\n",
       "      <td>0</td>\n",
       "    </tr>\n",
       "    <tr>\n",
       "      <th>2</th>\n",
       "      <td>2040</td>\n",
       "      <td>111</td>\n",
       "      <td>0</td>\n",
       "      <td>0</td>\n",
       "      <td>24</td>\n",
       "      <td>8</td>\n",
       "      <td>159660.80</td>\n",
       "      <td>2</td>\n",
       "      <td>1</td>\n",
       "      <td>0</td>\n",
       "      <td>113931.57</td>\n",
       "      <td>1</td>\n",
       "    </tr>\n",
       "    <tr>\n",
       "      <th>3</th>\n",
       "      <td>289</td>\n",
       "      <td>308</td>\n",
       "      <td>0</td>\n",
       "      <td>0</td>\n",
       "      <td>21</td>\n",
       "      <td>1</td>\n",
       "      <td>0.00</td>\n",
       "      <td>1</td>\n",
       "      <td>0</td>\n",
       "      <td>0</td>\n",
       "      <td>93826.63</td>\n",
       "      <td>0</td>\n",
       "    </tr>\n",
       "    <tr>\n",
       "      <th>4</th>\n",
       "      <td>1822</td>\n",
       "      <td>459</td>\n",
       "      <td>2</td>\n",
       "      <td>0</td>\n",
       "      <td>25</td>\n",
       "      <td>2</td>\n",
       "      <td>125510.82</td>\n",
       "      <td>0</td>\n",
       "      <td>1</td>\n",
       "      <td>1</td>\n",
       "      <td>79084.10</td>\n",
       "      <td>0</td>\n",
       "    </tr>\n",
       "  </tbody>\n",
       "</table>\n",
       "</div>"
      ],
      "text/plain": [
       "   Surname  CreditScore  Geography  Gender  Age  Tenure    Balance  \\\n",
       "0     1115          228          0       0   24       2       0.00   \n",
       "1     1177          217          2       0   23       1   83807.86   \n",
       "2     2040          111          0       0   24       8  159660.80   \n",
       "3      289          308          0       0   21       1       0.00   \n",
       "4     1822          459          2       0   25       2  125510.82   \n",
       "\n",
       "   NumOfProducts  HasCrCard  IsActiveMember  EstimatedSalary  Exited  \n",
       "0              0          1               1        101348.88       1  \n",
       "1              0          0               1        112542.58       0  \n",
       "2              2          1               0        113931.57       1  \n",
       "3              1          0               0         93826.63       0  \n",
       "4              0          1               1         79084.10       0  "
      ]
     },
     "execution_count": 59,
     "metadata": {},
     "output_type": "execute_result"
    }
   ],
   "source": [
    "df.head()"
   ]
  },
  {
   "cell_type": "code",
   "execution_count": 60,
   "metadata": {
    "execution": {
     "iopub.execute_input": "2022-09-22T10:01:54.869056Z",
     "iopub.status.busy": "2022-09-22T10:01:54.868669Z",
     "iopub.status.idle": "2022-09-22T10:01:54.877187Z",
     "shell.execute_reply": "2022-09-22T10:01:54.875826Z",
     "shell.execute_reply.started": "2022-09-22T10:01:54.869026Z"
    }
   },
   "outputs": [],
   "source": [
    "# Separating Input and output features:\n",
    "x = df.drop('Exited',axis=1)\n",
    "y = df.Exited"
   ]
  },
  {
   "cell_type": "code",
   "execution_count": 61,
   "metadata": {
    "execution": {
     "iopub.execute_input": "2022-09-22T10:02:06.626888Z",
     "iopub.status.busy": "2022-09-22T10:02:06.626298Z",
     "iopub.status.idle": "2022-09-22T10:02:06.632474Z",
     "shell.execute_reply": "2022-09-22T10:02:06.631173Z",
     "shell.execute_reply.started": "2022-09-22T10:02:06.626849Z"
    }
   },
   "outputs": [
    {
     "data": {
      "text/html": [
       "<div>\n",
       "<style scoped>\n",
       "    .dataframe tbody tr th:only-of-type {\n",
       "        vertical-align: middle;\n",
       "    }\n",
       "\n",
       "    .dataframe tbody tr th {\n",
       "        vertical-align: top;\n",
       "    }\n",
       "\n",
       "    .dataframe thead th {\n",
       "        text-align: right;\n",
       "    }\n",
       "</style>\n",
       "<table border=\"1\" class=\"dataframe\">\n",
       "  <thead>\n",
       "    <tr style=\"text-align: right;\">\n",
       "      <th></th>\n",
       "      <th>Surname</th>\n",
       "      <th>CreditScore</th>\n",
       "      <th>Geography</th>\n",
       "      <th>Gender</th>\n",
       "      <th>Age</th>\n",
       "      <th>Tenure</th>\n",
       "      <th>Balance</th>\n",
       "      <th>NumOfProducts</th>\n",
       "      <th>HasCrCard</th>\n",
       "      <th>IsActiveMember</th>\n",
       "      <th>EstimatedSalary</th>\n",
       "    </tr>\n",
       "  </thead>\n",
       "  <tbody>\n",
       "    <tr>\n",
       "      <th>0</th>\n",
       "      <td>1115</td>\n",
       "      <td>228</td>\n",
       "      <td>0</td>\n",
       "      <td>0</td>\n",
       "      <td>24</td>\n",
       "      <td>2</td>\n",
       "      <td>0.00</td>\n",
       "      <td>0</td>\n",
       "      <td>1</td>\n",
       "      <td>1</td>\n",
       "      <td>101348.88</td>\n",
       "    </tr>\n",
       "    <tr>\n",
       "      <th>1</th>\n",
       "      <td>1177</td>\n",
       "      <td>217</td>\n",
       "      <td>2</td>\n",
       "      <td>0</td>\n",
       "      <td>23</td>\n",
       "      <td>1</td>\n",
       "      <td>83807.86</td>\n",
       "      <td>0</td>\n",
       "      <td>0</td>\n",
       "      <td>1</td>\n",
       "      <td>112542.58</td>\n",
       "    </tr>\n",
       "    <tr>\n",
       "      <th>2</th>\n",
       "      <td>2040</td>\n",
       "      <td>111</td>\n",
       "      <td>0</td>\n",
       "      <td>0</td>\n",
       "      <td>24</td>\n",
       "      <td>8</td>\n",
       "      <td>159660.80</td>\n",
       "      <td>2</td>\n",
       "      <td>1</td>\n",
       "      <td>0</td>\n",
       "      <td>113931.57</td>\n",
       "    </tr>\n",
       "    <tr>\n",
       "      <th>3</th>\n",
       "      <td>289</td>\n",
       "      <td>308</td>\n",
       "      <td>0</td>\n",
       "      <td>0</td>\n",
       "      <td>21</td>\n",
       "      <td>1</td>\n",
       "      <td>0.00</td>\n",
       "      <td>1</td>\n",
       "      <td>0</td>\n",
       "      <td>0</td>\n",
       "      <td>93826.63</td>\n",
       "    </tr>\n",
       "    <tr>\n",
       "      <th>4</th>\n",
       "      <td>1822</td>\n",
       "      <td>459</td>\n",
       "      <td>2</td>\n",
       "      <td>0</td>\n",
       "      <td>25</td>\n",
       "      <td>2</td>\n",
       "      <td>125510.82</td>\n",
       "      <td>0</td>\n",
       "      <td>1</td>\n",
       "      <td>1</td>\n",
       "      <td>79084.10</td>\n",
       "    </tr>\n",
       "  </tbody>\n",
       "</table>\n",
       "</div>"
      ],
      "text/plain": [
       "   Surname  CreditScore  Geography  Gender  Age  Tenure    Balance  \\\n",
       "0     1115          228          0       0   24       2       0.00   \n",
       "1     1177          217          2       0   23       1   83807.86   \n",
       "2     2040          111          0       0   24       8  159660.80   \n",
       "3      289          308          0       0   21       1       0.00   \n",
       "4     1822          459          2       0   25       2  125510.82   \n",
       "\n",
       "   NumOfProducts  HasCrCard  IsActiveMember  EstimatedSalary  \n",
       "0              0          1               1        101348.88  \n",
       "1              0          0               1        112542.58  \n",
       "2              2          1               0        113931.57  \n",
       "3              1          0               0         93826.63  \n",
       "4              0          1               1         79084.10  "
      ]
     },
     "execution_count": 61,
     "metadata": {},
     "output_type": "execute_result"
    }
   ],
   "source": [
    "x.head()"
   ]
  },
  {
   "cell_type": "code",
   "execution_count": 62,
   "metadata": {
    "execution": {
     "iopub.execute_input": "2022-09-22T10:02:12.966630Z",
     "iopub.status.busy": "2022-09-22T10:02:12.966253Z",
     "iopub.status.idle": "2022-09-22T10:02:12.974843Z",
     "shell.execute_reply": "2022-09-22T10:02:12.973559Z",
     "shell.execute_reply.started": "2022-09-22T10:02:12.966600Z"
    }
   },
   "outputs": [
    {
     "data": {
      "text/plain": [
       "0    1\n",
       "1    0\n",
       "2    1\n",
       "3    0\n",
       "4    0\n",
       "Name: Exited, dtype: int64"
      ]
     },
     "execution_count": 62,
     "metadata": {},
     "output_type": "execute_result"
    }
   ],
   "source": [
    "y.head()"
   ]
  },
  {
   "cell_type": "markdown",
   "metadata": {},
   "source": [
    "## Scaling the dataset"
   ]
  },
  {
   "cell_type": "code",
   "execution_count": 63,
   "metadata": {
    "execution": {
     "iopub.execute_input": "2022-09-22T10:02:48.631294Z",
     "iopub.status.busy": "2022-09-22T10:02:48.630159Z",
     "iopub.status.idle": "2022-09-22T10:02:48.637382Z",
     "shell.execute_reply": "2022-09-22T10:02:48.636081Z",
     "shell.execute_reply.started": "2022-09-22T10:02:48.631247Z"
    }
   },
   "outputs": [],
   "source": [
    "from sklearn.preprocessing import StandardScaler\n",
    "ss = StandardScaler()"
   ]
  },
  {
   "cell_type": "code",
   "execution_count": 64,
   "metadata": {
    "execution": {
     "iopub.execute_input": "2022-09-22T10:02:58.978748Z",
     "iopub.status.busy": "2022-09-22T10:02:58.978254Z",
     "iopub.status.idle": "2022-09-22T10:02:58.995924Z",
     "shell.execute_reply": "2022-09-22T10:02:58.994837Z",
     "shell.execute_reply.started": "2022-09-22T10:02:58.978691Z"
    }
   },
   "outputs": [],
   "source": [
    "x_feature = ss.fit_transform(x)"
   ]
  },
  {
   "cell_type": "code",
   "execution_count": 65,
   "metadata": {
    "execution": {
     "iopub.execute_input": "2022-09-22T10:03:05.195053Z",
     "iopub.status.busy": "2022-09-22T10:03:05.194467Z",
     "iopub.status.idle": "2022-09-22T10:03:05.203256Z",
     "shell.execute_reply": "2022-09-22T10:03:05.202021Z",
     "shell.execute_reply.started": "2022-09-22T10:03:05.195017Z"
    }
   },
   "outputs": [
    {
     "data": {
      "text/plain": [
       "array([-0.46418322, -0.32733113, -0.90188624, -1.09598752,  0.29379269,\n",
       "       -1.04175968, -1.22584767, -0.91158349,  0.64609167,  0.97024255,\n",
       "        0.02188649])"
      ]
     },
     "execution_count": 65,
     "metadata": {},
     "output_type": "execute_result"
    }
   ],
   "source": [
    "x_feature[0]"
   ]
  },
  {
   "cell_type": "markdown",
   "metadata": {},
   "source": [
    "## Train-Test-Split"
   ]
  },
  {
   "cell_type": "code",
   "execution_count": 66,
   "metadata": {
    "execution": {
     "iopub.execute_input": "2022-09-22T10:03:29.771892Z",
     "iopub.status.busy": "2022-09-22T10:03:29.771389Z",
     "iopub.status.idle": "2022-09-22T10:03:29.841169Z",
     "shell.execute_reply": "2022-09-22T10:03:29.839946Z",
     "shell.execute_reply.started": "2022-09-22T10:03:29.771850Z"
    }
   },
   "outputs": [],
   "source": [
    "from sklearn.model_selection import train_test_split"
   ]
  },
  {
   "cell_type": "code",
   "execution_count": 67,
   "metadata": {
    "execution": {
     "iopub.execute_input": "2022-09-22T10:03:42.554195Z",
     "iopub.status.busy": "2022-09-22T10:03:42.553771Z",
     "iopub.status.idle": "2022-09-22T10:03:42.561856Z",
     "shell.execute_reply": "2022-09-22T10:03:42.560824Z",
     "shell.execute_reply.started": "2022-09-22T10:03:42.554156Z"
    }
   },
   "outputs": [],
   "source": [
    "xtrain,xtest,ytrain,ytest=train_test_split(x_feature,y,test_size=0.2,random_state=42)"
   ]
  },
  {
   "cell_type": "code",
   "execution_count": 68,
   "metadata": {
    "execution": {
     "iopub.execute_input": "2022-09-22T10:03:57.013102Z",
     "iopub.status.busy": "2022-09-22T10:03:57.011922Z",
     "iopub.status.idle": "2022-09-22T10:03:57.020742Z",
     "shell.execute_reply": "2022-09-22T10:03:57.019631Z",
     "shell.execute_reply.started": "2022-09-22T10:03:57.013045Z"
    }
   },
   "outputs": [
    {
     "data": {
      "text/plain": [
       "(8000, 11)"
      ]
     },
     "execution_count": 68,
     "metadata": {},
     "output_type": "execute_result"
    }
   ],
   "source": [
    "xtrain.shape"
   ]
  },
  {
   "cell_type": "code",
   "execution_count": 69,
   "metadata": {
    "execution": {
     "iopub.execute_input": "2022-09-22T10:14:46.940648Z",
     "iopub.status.busy": "2022-09-22T10:14:46.939573Z",
     "iopub.status.idle": "2022-09-22T10:14:46.950669Z",
     "shell.execute_reply": "2022-09-22T10:14:46.949737Z",
     "shell.execute_reply.started": "2022-09-22T10:14:46.940606Z"
    }
   },
   "outputs": [
    {
     "data": {
      "text/plain": [
       "(8000,)"
      ]
     },
     "execution_count": 69,
     "metadata": {},
     "output_type": "execute_result"
    }
   ],
   "source": [
    "ytrain.shape"
   ]
  },
  {
   "cell_type": "code",
   "execution_count": 70,
   "metadata": {
    "execution": {
     "iopub.execute_input": "2022-09-22T10:04:01.992594Z",
     "iopub.status.busy": "2022-09-22T10:04:01.992090Z",
     "iopub.status.idle": "2022-09-22T10:04:02.006992Z",
     "shell.execute_reply": "2022-09-22T10:04:02.005715Z",
     "shell.execute_reply.started": "2022-09-22T10:04:01.992544Z"
    }
   },
   "outputs": [
    {
     "data": {
      "text/plain": [
       "(2000, 11)"
      ]
     },
     "execution_count": 70,
     "metadata": {},
     "output_type": "execute_result"
    }
   ],
   "source": [
    "xtest.shape"
   ]
  },
  {
   "cell_type": "code",
   "execution_count": 71,
   "metadata": {
    "execution": {
     "iopub.execute_input": "2022-09-22T10:04:07.998548Z",
     "iopub.status.busy": "2022-09-22T10:04:07.998036Z",
     "iopub.status.idle": "2022-09-22T10:04:08.006339Z",
     "shell.execute_reply": "2022-09-22T10:04:08.005104Z",
     "shell.execute_reply.started": "2022-09-22T10:04:07.998504Z"
    }
   },
   "outputs": [
    {
     "data": {
      "text/plain": [
       "(2000,)"
      ]
     },
     "execution_count": 71,
     "metadata": {},
     "output_type": "execute_result"
    }
   ],
   "source": [
    "ytest.shape"
   ]
  },
  {
   "cell_type": "markdown",
   "metadata": {},
   "source": [
    "## Model Selection"
   ]
  },
  {
   "cell_type": "code",
   "execution_count": 72,
   "metadata": {
    "execution": {
     "iopub.execute_input": "2022-09-22T10:04:21.904861Z",
     "iopub.status.busy": "2022-09-22T10:04:21.904430Z",
     "iopub.status.idle": "2022-09-22T10:04:21.991881Z",
     "shell.execute_reply": "2022-09-22T10:04:21.990865Z",
     "shell.execute_reply.started": "2022-09-22T10:04:21.904823Z"
    }
   },
   "outputs": [],
   "source": [
    "from sklearn.linear_model import LogisticRegression\n",
    "lr = LogisticRegression()"
   ]
  },
  {
   "cell_type": "code",
   "execution_count": 73,
   "metadata": {
    "execution": {
     "iopub.execute_input": "2022-09-22T10:04:39.777681Z",
     "iopub.status.busy": "2022-09-22T10:04:39.777266Z",
     "iopub.status.idle": "2022-09-22T10:04:39.813210Z",
     "shell.execute_reply": "2022-09-22T10:04:39.811971Z",
     "shell.execute_reply.started": "2022-09-22T10:04:39.777645Z"
    }
   },
   "outputs": [
    {
     "data": {
      "text/plain": [
       "LogisticRegression()"
      ]
     },
     "execution_count": 73,
     "metadata": {},
     "output_type": "execute_result"
    }
   ],
   "source": [
    "lr.fit(xtrain,ytrain)"
   ]
  },
  {
   "cell_type": "code",
   "execution_count": 74,
   "metadata": {
    "execution": {
     "iopub.execute_input": "2022-09-22T10:05:55.781000Z",
     "iopub.status.busy": "2022-09-22T10:05:55.780579Z",
     "iopub.status.idle": "2022-09-22T10:05:55.790489Z",
     "shell.execute_reply": "2022-09-22T10:05:55.789164Z",
     "shell.execute_reply.started": "2022-09-22T10:05:55.780964Z"
    }
   },
   "outputs": [],
   "source": [
    "predict = lr.predict(xtest)"
   ]
  },
  {
   "cell_type": "code",
   "execution_count": 75,
   "metadata": {},
   "outputs": [
    {
     "name": "stdout",
     "output_type": "stream",
     "text": [
      "Customer Will Not Churn\n",
      "Customer Will Not Churn\n",
      "Customer Will Not Churn\n",
      "Customer Will Not Churn\n",
      "Customer Will Not Churn\n",
      "Customer Will Not Churn\n",
      "Customer Will Not Churn\n",
      "Customer Will Not Churn\n",
      "Customer Will Not Churn\n",
      "Customer Will Not Churn\n",
      "Customer Will Not Churn\n",
      "Customer Will Churn\n",
      "Customer Will Not Churn\n",
      "Customer Will Not Churn\n",
      "Customer Will Not Churn\n"
     ]
    }
   ],
   "source": [
    "# Predicting customer churn:\n",
    "for i in predict[0:15]:\n",
    "    if i == 0:\n",
    "        print(\"Customer Will Not Churn\")\n",
    "    else:\n",
    "        print(\"Customer Will Churn\")"
   ]
  },
  {
   "cell_type": "code",
   "execution_count": 76,
   "metadata": {
    "execution": {
     "iopub.execute_input": "2022-09-22T10:04:55.886187Z",
     "iopub.status.busy": "2022-09-22T10:04:55.885043Z",
     "iopub.status.idle": "2022-09-22T10:04:55.896728Z",
     "shell.execute_reply": "2022-09-22T10:04:55.895649Z",
     "shell.execute_reply.started": "2022-09-22T10:04:55.886130Z"
    }
   },
   "outputs": [
    {
     "name": "stdout",
     "output_type": "stream",
     "text": [
      "81.75 %\n"
     ]
    }
   ],
   "source": [
    "print(lr.score(xtest,ytest)*100, '%')"
   ]
  },
  {
   "cell_type": "markdown",
   "metadata": {},
   "source": [
    "## Performance Metrics"
   ]
  },
  {
   "cell_type": "code",
   "execution_count": 77,
   "metadata": {
    "execution": {
     "iopub.execute_input": "2022-09-22T10:06:00.624047Z",
     "iopub.status.busy": "2022-09-22T10:06:00.623688Z",
     "iopub.status.idle": "2022-09-22T10:06:00.632299Z",
     "shell.execute_reply": "2022-09-22T10:06:00.631347Z",
     "shell.execute_reply.started": "2022-09-22T10:06:00.624015Z"
    }
   },
   "outputs": [
    {
     "data": {
      "text/plain": [
       "0.8175"
      ]
     },
     "execution_count": 77,
     "metadata": {},
     "output_type": "execute_result"
    }
   ],
   "source": [
    "from sklearn.metrics import accuracy_score\n",
    "#accuracy score\n",
    "accuracy_score(ytest,predict)"
   ]
  },
  {
   "cell_type": "markdown",
   "metadata": {},
   "source": [
    "## Confusion Matrix"
   ]
  },
  {
   "cell_type": "code",
   "execution_count": 78,
   "metadata": {
    "execution": {
     "iopub.execute_input": "2022-09-22T10:06:27.420257Z",
     "iopub.status.busy": "2022-09-22T10:06:27.419855Z",
     "iopub.status.idle": "2022-09-22T10:06:27.425478Z",
     "shell.execute_reply": "2022-09-22T10:06:27.424220Z",
     "shell.execute_reply.started": "2022-09-22T10:06:27.420221Z"
    }
   },
   "outputs": [],
   "source": [
    "from sklearn.metrics import confusion_matrix"
   ]
  },
  {
   "cell_type": "code",
   "execution_count": 79,
   "metadata": {
    "execution": {
     "iopub.execute_input": "2022-09-22T10:09:11.516071Z",
     "iopub.status.busy": "2022-09-22T10:09:11.515714Z",
     "iopub.status.idle": "2022-09-22T10:09:11.754160Z",
     "shell.execute_reply": "2022-09-22T10:09:11.753101Z",
     "shell.execute_reply.started": "2022-09-22T10:09:11.516040Z"
    }
   },
   "outputs": [
    {
     "data": {
      "image/png": "[encoded data removed]",
      "text/plain": [
       "<Figure size 432x288 with 2 Axes>"
      ]
     },
     "metadata": {
      "needs_background": "light"
     },
     "output_type": "display_data"
    }
   ],
   "source": [
    "Cm = confusion_matrix(ytest,predict)\n",
    "ax = plt.axes()\n",
    "sns.heatmap(Cm, annot=True,\n",
    "           annot_kws={'size':10},\n",
    "           #xticklabels=labels,\n",
    "           #yticklabels=labels,\n",
    "            ax=ax\n",
    "           )\n",
    "\n",
    "plt.title(\"Confusion Metrics\")\n",
    "plt.show()"
   ]
  },
  {
   "cell_type": "code",
   "execution_count": 80,
   "metadata": {
    "execution": {
     "iopub.execute_input": "2022-09-22T10:10:11.226908Z",
     "iopub.status.busy": "2022-09-22T10:10:11.226311Z",
     "iopub.status.idle": "2022-09-22T10:10:11.259189Z",
     "shell.execute_reply": "2022-09-22T10:10:11.257731Z",
     "shell.execute_reply.started": "2022-09-22T10:10:11.226857Z"
    }
   },
   "outputs": [
    {
     "name": "stdout",
     "output_type": "stream",
     "text": [
      "              precision    recall  f1-score   support\n",
      "\n",
      "           0       0.83      0.97      0.90      1607\n",
      "           1       0.62      0.19      0.29       393\n",
      "\n",
      "    accuracy                           0.82      2000\n",
      "   macro avg       0.72      0.58      0.59      2000\n",
      "weighted avg       0.79      0.82      0.78      2000\n",
      "\n"
     ]
    }
   ],
   "source": [
    "# Classification Report:\n",
    "from sklearn.metrics import classification_report\n",
    "print(classification_report(ytest,predict))"
   ]
  },
  {
   "cell_type": "code",
   "execution_count": null,
   "metadata": {},
   "outputs": [],
   "source": []
  },
  {
   "cell_type": "code",
   "execution_count": null,
   "metadata": {},
   "outputs": [],
   "source": []
  },
  {
   "cell_type": "code",
   "execution_count": null,
   "metadata": {},
   "outputs": [],
   "source": []
  }
 ],
 "metadata": {
  "kernelspec": {
   "display_name": "Python 3 (ipykernel)",
   "language": "python",
   "name": "python3"
  },
  "language_info": {
   "codemirror_mode": {
    "name": "ipython",
    "version": 3
   },
   "file_extension": ".py",
   "mimetype": "text/x-python",
   "name": "python",
   "nbconvert_exporter": "python",
   "pygments_lexer": "ipython3",
   "version": "3.9.12"
  }
 },
 "nbformat": 4,
 "nbformat_minor": 4
}
